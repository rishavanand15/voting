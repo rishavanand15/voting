{
 "cells": [
  {
   "cell_type": "markdown",
   "metadata": {},
   "source": [
    "#Voting Application"
   ]
  },
  {
   "cell_type": "code",
   "execution_count": 2,
   "metadata": {},
   "outputs": [],
   "source": [
    "import time\n",
    "from datetime import datetime  \n",
    "from datetime import timedelta\n",
    "#present time in time1\n",
    "time1=datetime.now()"
   ]
  },
  {
   "cell_type": "code",
   "execution_count": null,
   "metadata": {},
   "outputs": [],
   "source": [
    "present_time=datetime.now()\n",
    "et=int(input('enter the difference of time from now to end of vote in minutes'))\n",
    "s=int(input('enter the difference of time from now to start of vote in minutes'))\n",
    "starting_time=present_time+timedelta(minutes=s)#voting time start\n",
    "end_time=starting_time+timedelta(minutes=et)#voting time end\n",
    "j={}\n",
    "winner=[]\n",
    "h=g=e=f=count=0\n",
    "while(present_time<=end_time):\n",
    "    present_time=datetime.now()\n",
    "    if present_time>=starting_time:\n",
    "        n=str(input('enter the person to vote a is amin,b is gk,c is rishav,d is subham:'))\n",
    "        if n=='a' or n=='b' or n=='c' or n=='d':\n",
    "            if n=='a':\n",
    "                e+=1\n",
    "            elif n=='b':\n",
    "                f+=1\n",
    "            elif n=='c':\n",
    "                g+=1\n",
    "            elif n=='d':\n",
    "                h+=1\n",
    "            j.update({'amin':e})\n",
    "            j.update({'gk':f})\n",
    "            j.update({'rishav':g})\n",
    "            j.update({'subham':h})\n",
    "        else:\n",
    "            print('wrong input')\n",
    "            count+=1\n",
    "print(j)# total votes of each individual\n",
    "total_no._of_votes=e+f+g+h+count\n",
    "print('total number of votes=',total_no._of_votes)\n",
    "max_vote=0\n",
    "l=''\n",
    "for x,y in j.items():\n",
    "    if y>max_vote:\n",
    "        max_vote=y\n",
    "        name=x\n",
    "    if max_vote==y:\n",
    "        name1=x\n",
    "    if name1!=name:\n",
    "        l=name1\n",
    "print(name,l,max_vote)"
   ]
  }
 ],
 "metadata": {
  "kernelspec": {
   "display_name": "Python 3",
   "language": "python",
   "name": "python3"
  },
  "language_info": {
   "codemirror_mode": {
    "name": "ipython",
    "version": 3
   },
   "file_extension": ".py",
   "mimetype": "text/x-python",
   "name": "python",
   "nbconvert_exporter": "python",
   "pygments_lexer": "ipython3",
   "version": "3.5.2"
  }
 },
 "nbformat": 4,
 "nbformat_minor": 2
}
